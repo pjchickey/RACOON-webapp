{
 "metadata": {
  "language_info": {
   "codemirror_mode": {
    "name": "ipython",
    "version": 3
   },
   "file_extension": ".py",
   "mimetype": "text/x-python",
   "name": "python",
   "nbconvert_exporter": "python",
   "pygments_lexer": "ipython3",
   "version": "3.8.5-final"
  },
  "orig_nbformat": 2,
  "kernelspec": {
   "name": "python3",
   "display_name": "Python 3.8.5 64-bit (conda)",
   "metadata": {
    "interpreter": {
     "hash": "97ae724bfa85b9b34df7982b8bb8c7216f435b92902d749e4263f71162bea840"
    }
   }
  }
 },
 "nbformat": 4,
 "nbformat_minor": 2,
 "cells": [
  {
   "cell_type": "code",
   "execution_count": 2,
   "metadata": {},
   "outputs": [],
   "source": [
    "import sqlalchemy\n",
    "import qrcode\n",
    "import PIL"
   ]
  },
  {
   "cell_type": "code",
   "execution_count": 2,
   "metadata": {},
   "outputs": [],
   "source": [
    "img = qrcode.make('racoon_1')"
   ]
  },
  {
   "cell_type": "code",
   "execution_count": 4,
   "metadata": {},
   "outputs": [
    {
     "output_type": "execute_result",
     "data": {
      "text/plain": [
       "qrcode.image.pil.PilImage"
      ]
     },
     "metadata": {},
     "execution_count": 4
    }
   ],
   "source": [
    "type(img)"
   ]
  },
  {
   "cell_type": "code",
   "execution_count": 5,
   "metadata": {},
   "outputs": [
    {
     "output_type": "execute_result",
     "data": {
      "text/plain": [
       "<qrcode.image.pil.PilImage at 0x1ff83ad98b0>"
      ],
      "image/png": "[encoded data removed]"
     },
     "metadata": {},
     "execution_count": 5
    }
   ],
   "source": [
    "img"
   ]
  },
  {
   "cell_type": "code",
   "execution_count": 10,
   "metadata": {},
   "outputs": [],
   "source": [
    "img.save('static/racoon_1.png')"
   ]
  },
  {
   "cell_type": "code",
   "execution_count": 14,
   "metadata": {},
   "outputs": [],
   "source": [
    "thing = open('static/racoon_1.png', 'rb').read()"
   ]
  },
  {
   "cell_type": "code",
   "execution_count": 15,
   "metadata": {},
   "outputs": [
    {
     "output_type": "execute_result",
     "data": {
      "text/plain": [
       "b'\\x89PNG\\r\\n\\x1a\\n\\x00\\x00\\x00\\rIHDR\\x00\\x00\\x01\"\\x00\\x00\\x01\"\\x01\\x00\\x00\\x00\\x00u\\xc5\\xe2\\x1b\\x00\\x00\\x01\\x89IDATx\\x9c\\xed\\x9aAn\\x830\\x10E\\xdf\\xd4\\x96\\xb2$R\\x0e\\xd0\\xa3\\xd87\\xe8\\x91z58Jo\\x80\\x97\\x95@\\xbf\\x0bC\\x92*\\x8bvC 0^ <z\\x12_\\xd6\\xe8{<\\xc6\\xc4\\xdf\\xa3{\\xfb\\x07\\x04N9\\xe5\\x94SNm\\x9d\\xb2iD,\\x97\\x08\\x949\\x92W\\xd5u\\x08*I\\x92zP\\xdb|\\x9be\\x82$I\\xbf\\xa9\\xe7\\xeb:\\x04U\\xa6\\x1c7\\xb3X#\\xb7\\xb7\\xed\\xab\\xdf\\x07%\\xf5\\xe1\\xb1\\xec\\\\_\\xd7!\\xa8\\xee}x\\xf2\\x17\\x0fK\\xcd\\xb6\\xd2\\x08(`4 \\n\\xdcg\\xffV\\xd5\\xef\\x82\\xea\\xcc\\xcc\\xec\\x0c\\xa4\\xaf\\x88e\\xc6Z\\xe6\\xac\\xadk\\xd7T\\xcd\\xfb[\\x8e\\xab;c\\xfa\\x9d\\xf5\\xdbU\\xbf\\x07\\xeaV\\xd5\\x93z\\xb0\\xcchP\"\\x96W\\xd5\\xb5oj\\xce\\xfbj\\xf5\\x82.\\x87\\xba\\xd9Zj\\xaf\\xbb\\xeeV\\xd5\\xbf6U\\xd7\\xde\\x00\\x13%\\xce\\xab]\\xce@\\xb9\\xcc\\xd3\\xad\\xaa\\x7fm\\x8az~m\\x1b\\x89\\xa4\\x01 \\xcco5&\\xa9\\xdd\\xaa\\xfa\\xd7\\xa6\\xa6\\xbcO_q\\x80r\\x11\\x94\\x0b\\xea,\\x88\\xeec\\x9c+\\xd0\\xad\\xaa\\x7fm\\xeaZ\\xe7\\x0c\\xf51\\xb9\\x0f\\xa3)\\xf5\\xe3z\\xba\\x8eC\\xdd\\xfa\\x98$\\rXn$\\xcb\\x04\\xef\\xa5-IU\\xbf\\x9f\\xfb\\x98Aj\\x9b\\x01\\xb5\\x04A\\xa3i\\xb8\\xdf/J\\x95k\\xaf\\x1e\\xb0\\x0c\\xa8e\\xf4s\\xed\\x92T|\\x88\\x94Su\\x1a\\x83\\x93{\\xce3)\\xfb\\xec\\x01J\\x84\\xa4o\\xbf\\xb7Z\\x92z\\xf0\\xfbi:\\xd5\\xf7\\xee\\xf7\\x0bR\\xdc_\\r\\xd6\\xc2&\\\\w]?[-J\\x99\\xff\\x1b\\xe5\\x94SN9u\\x08\\xea\\x07\\xb0\\x8b\\xc2\\xdfFl\\xd4\\x8f\\x00\\x00\\x00\\x00IEND\\xaeB`\\x82'"
      ]
     },
     "metadata": {},
     "execution_count": 15
    }
   ],
   "source": [
    "thing"
   ]
  },
  {
   "cell_type": "code",
   "execution_count": 16,
   "metadata": {},
   "outputs": [
    {
     "output_type": "execute_result",
     "data": {
      "text/plain": [
       "450"
      ]
     },
     "metadata": {},
     "execution_count": 16
    }
   ],
   "source": [
    "open('static/newimg.png', 'wb').write(thing)"
   ]
  },
  {
   "cell_type": "code",
   "execution_count": 3,
   "metadata": {},
   "outputs": [],
   "source": [
    "qrcode.make('test').save('static/test.png')"
   ]
  },
  {
   "cell_type": "code",
   "execution_count": null,
   "metadata": {},
   "outputs": [],
   "source": []
  }
 ]
}